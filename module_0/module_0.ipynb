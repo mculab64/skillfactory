{
 "cells": [
  {
   "cell_type": "code",
   "execution_count": 15,
   "metadata": {},
   "outputs": [
    {
     "name": "stdout",
     "output_type": "stream",
     "text": [
      "Ваш алгоритм угадывает число в среднем за 5 попыток\n"
     ]
    },
    {
     "data": {
      "text/plain": [
       "5"
      ]
     },
     "execution_count": 15,
     "metadata": {},
     "output_type": "execute_result"
    }
   ],
   "source": [
    "import numpy as np # импортируем библиотеку  numpty под именем \"np\"\n",
    "        \n",
    "        \n",
    "        \n",
    "        \n",
    "def score_game(game_core):\n",
    "    '''Запускаем игру 1000 раз, чтобы узнать, как быстро игра угадывает число'''\n",
    "    count_ls = [] # создаем список из кол-ва попыток\n",
    "    np.random.seed(1)  # фиксируем RANDOM SEED, чтобы ваш эксперимент был воспроизводим!\n",
    "    random_array = np.random.randint(1,101, size=(1000)) # создаем список из чисел от 1 до 100, которые мы будем исспользовать для угадывания\n",
    "    for number in random_array: \n",
    "        count_ls.append(game_core(number)) # создаем список из кол-ва попыток , полученных путем обращения к функции, угадывающей число\n",
    "    score = int(np.mean(count_ls)) # среднее кол-во попыток\n",
    "    print(f\"Ваш алгоритм угадывает число в среднем за {score} попыток\")\n",
    "    return(score)\n",
    "\n",
    "\n",
    "\n",
    "\n",
    "def game_core_v1(number):\n",
    "    '''Сначала создаем список от 1 до 100, значение среднего элемента сравнивается с искомым значением.\n",
    "    В зависимости от того, больше оно или меньше среднего элемента , поиск будет продолжаться только в левой или правой части списка.\n",
    "    Диапазон поиска будет сужаться до тех пор, пока значение среднего элемента не совпадет с искомым'''\n",
    "    count = 1 # счетчик кол-ва попыток\n",
    "    predict = [i for i in range(1,101)] # упорядоченый список от 1 до 100\n",
    "    mid_index = int(len(predict)/2) # индекс среднего элемента списка\n",
    "    low_index = 0 #  нижняя граница диапазона поиска\n",
    "    high_index = int(len(predict)-1) # верхний диапазон поиска\n",
    "\n",
    "    if number == predict[-1] or number == predict[low_index]:\n",
    "        return (count)\n",
    "    \n",
    "    while predict[mid_index] != number and low_index <= high_index:\n",
    "        count += 1\n",
    "        if number > predict[mid_index]: \n",
    "            low_index = mid_index + 1 #сужение диапазона поиска\n",
    "        else:\n",
    "            high_index = mid_index -1 #сужение диапазона поиска\n",
    "        mid_index = (low_index + high_index) // 2\n",
    "    \n",
    "         \n",
    "    return(count)\n",
    "\n",
    "              \n",
    "score_game(game_core_v1)\n",
    "\n",
    "\n"
   ]
  },
  {
   "cell_type": "code",
   "execution_count": null,
   "metadata": {},
   "outputs": [],
   "source": []
  },
  {
   "cell_type": "code",
   "execution_count": null,
   "metadata": {},
   "outputs": [],
   "source": []
  }
 ],
 "metadata": {
  "kernelspec": {
   "display_name": "Python 3",
   "language": "python",
   "name": "python3"
  },
  "language_info": {
   "codemirror_mode": {
    "name": "ipython",
    "version": 3
   },
   "file_extension": ".py",
   "mimetype": "text/x-python",
   "name": "python",
   "nbconvert_exporter": "python",
   "pygments_lexer": "ipython3",
   "version": "3.8.3"
  }
 },
 "nbformat": 4,
 "nbformat_minor": 4
}
